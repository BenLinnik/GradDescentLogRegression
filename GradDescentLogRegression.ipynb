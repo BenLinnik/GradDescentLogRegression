{
 "cells": [
  {
   "cell_type": "markdown",
   "metadata": {},
   "source": [
    "Benjamin Linnik"
   ]
  },
  {
   "cell_type": "markdown",
   "metadata": {},
   "source": [
    "# Logistic regression to solve the classification problem"
   ]
  },
  {
   "cell_type": "markdown",
   "metadata": {},
   "source": [
    "![from C. Bishop \"Pattern Recognition and Machine Learning\" [Bis07]](Ex3Example.png)"
   ]
  },
  {
   "cell_type": "markdown",
   "metadata": {},
   "source": [
    "Figure 4.12 from C. Bishop \"Pattern Recognition and Machine Learning\" [Bis07] gives a nice example of a case where a nonlinear transformation is very useful before applying logistic regression to solve the classification problem.\n",
    "\n",
    "The original data space looks like the left picture. A non-linear set of gaussian basis functions transforms the red and blue dots into a space which is plotted in the right picture.\n",
    "\n",
    "This transformation makes it possible to devide the data with a logistic regression model. The black line in both images shows the linear decision boundary in both spaces and devides both data sets correctly.\n",
    "\n"
   ]
  },
  {
   "cell_type": "markdown",
   "metadata": {},
   "source": [
    "# What is the maximum likelihood solution for a (solved) logistic regression model"
   ]
  },
  {
   "cell_type": "markdown",
   "metadata": {},
   "source": [
    "The maximum likelihood solution for a (solved) logistic regression model can be obtained by minimizing the cross entropy error function $E(\\boldsymbol{w})$.\n",
    "\n",
    "We set the derivative from exercise 1 to zero to find the minimizing solution:\n",
    "$$\n",
    "\\sum_{n=1}^N (y_n - t_n) \\boldsymbol{\\phi}_n = \\sum_{n=1}^N (\\sigma(\\boldsymbol{w}^T\\boldsymbol{\\phi}_n) - t_n) \\boldsymbol{\\phi}_n = 0\n",
    "$$\n",
    "This function will be zero, if all the $y_n $ are equal to all $t_n$ for every $n$.\n",
    "\n",
    "$t_n$ can have the integer values:\n",
    "$$\n",
    "t_n \\in \\left\\{0,1\\right\\}\n",
    "$$\n",
    "\n",
    "\n",
    "$y_n$ can have real values between 0 and 1:\n",
    "$$\n",
    "y_n \\in \\left[0,1\\right]\n",
    "$$\n",
    "\n",
    "So, to have $y_n - t_n$ at zero for every $n$, $\\sigma(\\boldsymbol{w}^T\\boldsymbol{\\phi}_n)$ must be as close to 0 and 1 as possible, this can be achieved by making  the argument of the sigmodial $\\boldsymbol{w}^T\\boldsymbol{\\phi}_n$ as large as possible, hence:\n",
    "\n",
    "$$\n",
    "\\lim_{|\\boldsymbol{w}|\\rightarrow\\pm\\infty} \\left( \\sigma(\\boldsymbol{w}^T\\boldsymbol{\\phi}_n) \\right) =\n",
    "\\begin{cases} \n",
    "1 & |\\boldsymbol{w}| \\rightarrow \\infty \\\\ \n",
    "0 & |\\boldsymbol{w}| \\rightarrow -\\infty \\\\ \n",
    "\\end{cases}\n",
    "$$\n",
    "For a large magnitude of $\\boldsymbol{w}$ the error function of a correctly solved logistic regression model goes to zero, hereby maximizing the likelihood of the solution. \n",
    "\n",
    "q.e.d."
   ]
  },
  {
   "cell_type": "markdown",
   "metadata": {},
   "source": [
    "# Logistic Regression Hands-On"
   ]
  },
  {
   "cell_type": "markdown",
   "metadata": {},
   "source": [
    "Generate two 2D data clouds and find best linear seperation use GradDesc to find best fitting values\n",
    "\n",
    "For a detailed explanation see the comments, the proceeding was devided into five parts"
   ]
  },
  {
   "cell_type": "code",
   "execution_count": 1,
   "metadata": {
    "collapsed": true
   },
   "outputs": [],
   "source": [
    "import numpy as np # numerical lib\n",
    "import numpy.ma as ma # masked arrays\n",
    "import matplotlib.pyplot as plt # plot lib\n",
    "%matplotlib inline\n",
    "\n",
    "font = {'family' : 'serif',\n",
    "        'weight'  : 'normal',\n",
    "        'size'   : 16}\n",
    "\n",
    "plt.rc('font', **font)"
   ]
  },
  {
   "cell_type": "markdown",
   "metadata": {},
   "source": [
    "## part 1"
   ]
  },
  {
   "cell_type": "code",
   "execution_count": 2,
   "metadata": {
    "collapsed": true
   },
   "outputs": [],
   "source": [
    "# Generate the dataset\n",
    "mu_1 = [1, 2] # 2-dimensional mean 1\n",
    "mu_2 = [3, 3] # 2-dimensional mean 2\n",
    "sigma_1 = [[0.5, 0.3], [0.3, 0.5]]  # covariance 1\n",
    "sigma_2 = [[0.7, -0.3], [-0.3, 0.5]]  # covariance 2\n",
    "num_pts = 100 # number of data points to sample for each distribution\n",
    "\n",
    "np.random.seed(1) # make tests repeatable for performance studies\n",
    "dist_N_1 = np.random.multivariate_normal(mu_1, sigma_1, num_pts)\n",
    "dist_N_2 = np.random.multivariate_normal(mu_2, sigma_2, num_pts)\n",
    "\n",
    "# combined distribution with label as third dimension\n",
    "comb_dist_label = np.empty((0,3))\n",
    "for point in range(num_pts):\n",
    "    comb_dist_label = np.vstack([comb_dist_label,\n",
    "                                 [dist_N_1[point,0], dist_N_1[point,1], 0]])\n",
    "    comb_dist_label = np.vstack([comb_dist_label,\n",
    "                                 [dist_N_2[point,0], dist_N_2[point,1], 1]])\n",
    "#print(comb_dist_label)"
   ]
  },
  {
   "cell_type": "markdown",
   "metadata": {},
   "source": [
    "## part 2"
   ]
  },
  {
   "cell_type": "markdown",
   "metadata": {},
   "source": [
    "Preparation"
   ]
  },
  {
   "cell_type": "code",
   "execution_count": 3,
   "metadata": {
    "collapsed": true
   },
   "outputs": [],
   "source": [
    "# Use two linear basis functions and a bias for your feature vector.\n",
    "def Basis_fct(x):\n",
    "    return x # simply linear\n",
    "\n",
    "def Get_phi(a_X):\n",
    "    \"\"\"\n",
    "    Returns the vector of basis functions of size (3x1) for a feature vector v_x.\n",
    "    Args:\n",
    "        a_x (np.array): input features of size 1x2\n",
    "    \"\"\"\n",
    "    # constuct vector phi_n\n",
    "    a_phi = np.array([1, # bias\n",
    "                      Basis_fct(a_X[0]),\n",
    "                      Basis_fct(a_X[1])])\n",
    "\n",
    "    return a_phi\n",
    "\n",
    "def Get_Phi(m_X):\n",
    "    \"\"\"\n",
    "    Returns the design matrix of size (Nx(M+1) for a feature vector v_x.\n",
    "\n",
    "    Args:\n",
    "        a_X (np.array): input features of size 1xN\n",
    "    \"\"\"\n",
    "    # matrix with phi_n as rows, design matrix\n",
    "    dimy = len(Get_phi(m_X[0]))\n",
    "    m_Phi = np.empty((0,dimy))\n",
    "    for row in range(len(m_X)):\n",
    "        m_Phi = np.vstack([m_Phi, Get_phi(m_X[row])])\n",
    "    return m_Phi\n",
    "\n",
    "# cpnstruct label vector t function\n",
    "def Get_t(m_X):\n",
    "    a_t = np.array([])  \n",
    "    for row in range(len(m_X)):\n",
    "        a_t = np.append(a_t,m_X[row,2])  \n",
    "    return a_t\n",
    "\n",
    "def Transpose_array(vec):\n",
    "    return vec.reshape(vec.shape + (1,))\n",
    "\n",
    "def Sigmoid(x):  \n",
    "    return 1 / (1 + np.exp(-x))\n",
    "\n",
    "# y vector estimate\n",
    "def Get_y(v_w, m_Phi):\n",
    "    v_y = np.empty((0,1))\n",
    "    for point in range(len(m_Phi)):\n",
    "        v_y = np.vstack([v_y, Sigmoid(v_w.T.dot(Transpose_array(m_Phi[point,:])))])\n",
    "    return v_y\n"
   ]
  },
  {
   "cell_type": "markdown",
   "metadata": {},
   "source": [
    "Do what has to be done..."
   ]
  },
  {
   "cell_type": "code",
   "execution_count": 4,
   "metadata": {
    "collapsed": true
   },
   "outputs": [],
   "source": [
    "# construct label vector \n",
    "v_t = Transpose_array(Get_t(comb_dist_label))\n",
    "\n",
    "# design matrix, each row is a transposed design vector\n",
    "m_Phi = Get_Phi(comb_dist_label[:,0:2])"
   ]
  },
  {
   "cell_type": "markdown",
   "metadata": {},
   "source": [
    "## part 3"
   ]
  },
  {
   "cell_type": "code",
   "execution_count": 5,
   "metadata": {
    "collapsed": true
   },
   "outputs": [],
   "source": [
    "def GradDesc(v_w, m_Phi, v_t, n, alpha, epsilon=10):\n",
    "    count = 0\n",
    "    for i in range(n):\n",
    "        v_y = Get_y(v_w, m_Phi)\n",
    "        gradE = np.array([0,0,0])\n",
    "        for n in range(len(m_Phi)):\n",
    "            gradE = gradE + (v_y[n]-v_t[n])*m_Phi[n,:]\n",
    "        # don't do more iterations than necessary \n",
    "        if (np.linalg.norm(gradE)<epsilon):\n",
    "            return v_w, count\n",
    "        #print(np.linalg.norm(gradE))\n",
    "        v_w = v_w - alpha*Transpose_array(gradE)\n",
    "        count = count + 1\n",
    "    return v_w, count\n",
    "\n",
    "# calculate the x2 value, where the sigmoid gives 0.5 for given x1 values\n",
    "def Get_Boundary(v_w, x1):\n",
    "    y = (np.log(1)-v_w[0]-v_w[1]*x1)/v_w[2]\n",
    "    return y\n",
    "\n",
    "# Get prediction of class, everything >= 0.5 is in class 1, else in class 0\n",
    "def Get_ClassPred(y_n):\n",
    "    v_class = np.empty((0,1))\n",
    "    for point in range(len(y_n)):\n",
    "        if (y_n[point] >= 0.5):\n",
    "            pred = 1\n",
    "        else:\n",
    "            pred = 0\n",
    "        v_class = np.vstack([v_class, pred])\n",
    "    return v_class    "
   ]
  },
  {
   "cell_type": "markdown",
   "metadata": {},
   "source": [
    "## $\\alpha=0.1$"
   ]
  },
  {
   "cell_type": "code",
   "execution_count": 6,
   "metadata": {},
   "outputs": [
    {
     "name": "stdout",
     "output_type": "stream",
     "text": [
      "The weights estimated: bias, w_1, w_2\n",
      "[[-53.59337163]\n",
      " [ 16.7096951 ]\n",
      " [  7.99959957]]\n",
      "number of wrong predicted points: 6\n",
      "Accuracy: 0.97\n",
      "Number of descents in GradDesc: 73 <------- !!!\n"
     ]
    }
   ],
   "source": [
    "# init w vector\n",
    "v_w = Transpose_array(np.array([1,1,1]))\n",
    "#v_w = Transpose_array(np.array([-65.58064473,18.73293133,10.06119078]))\n",
    "# Do gradient descent\n",
    "v_w, descent_count = GradDesc(v_w, m_Phi, v_t, 5000, 0.1, epsilon=10)\n",
    "print(\"The weights estimated: bias, w_1, w_2\")\n",
    "print(v_w.view())\n",
    "\n",
    "# calculate y vector with new weights\n",
    "v_y = Get_y(v_w, m_Phi)\n",
    "# Get labels for predicted classes\n",
    "v_y_classpred = Get_ClassPred(v_y)\n",
    "# find wrongly predicted classes rows\n",
    "v_wrong_points = np.abs(v_y_classpred-v_t)\n",
    "\n",
    "# construct new matrix, with comb_dist_label as the first three columns\n",
    "# and the predicted class as the fourth column\n",
    "comb_dist_label_pred = np.multiply(\n",
    "    np.ones((len(comb_dist_label),4)),\n",
    "    v_wrong_points)\n",
    "comb_dist_label_pred[:,:-1] = comb_dist_label\n",
    "\n",
    "# construct matrix with ONLY wrong predicted points\n",
    "m_wrong_preddata = np.empty((0,4))\n",
    "for point in range(len(comb_dist_label)):\n",
    "    if v_wrong_points[point] == 1:\n",
    "        m_wrong_preddata = np.vstack([m_wrong_preddata,\n",
    "                                      comb_dist_label_pred[point,:]])\n",
    "print(\"number of wrong predicted points: \" + str(len(m_wrong_preddata)))\n",
    "print(\"Accuracy: \" + str(1-len(m_wrong_preddata)/len(m_Phi)))\n",
    "print(\"Number of descents in GradDesc: \" + str(descent_count) + \" <------- !!!\")\n"
   ]
  },
  {
   "cell_type": "markdown",
   "metadata": {},
   "source": [
    "## part 4"
   ]
  },
  {
   "cell_type": "code",
   "execution_count": 7,
   "metadata": {},
   "outputs": [
    {
     "data": {
      "text/plain": [
       "Text(0,0.5,'y')"
      ]
     },
     "execution_count": 7,
     "metadata": {},
     "output_type": "execute_result"
    },
    {
     "data": {
      "image/png": "[encoded data removed]",
      "text/plain": [
       "<matplotlib.figure.Figure at 0x1b580c873c8>"
      ]
     },
     "metadata": {},
     "output_type": "display_data"
    }
   ],
   "source": [
    "xplot = [0.8,2.5]\n",
    "yplot = Get_Boundary(v_w,xplot)\n",
    "\n",
    "fig, ax = plt.subplots(figsize=(12,9))  \n",
    "ax.scatter(dist_N_1[:,0], dist_N_1[:,1], s=20, c='b', marker='o',\n",
    "           label='samples from $N_1$', alpha=0.7)  \n",
    "ax.scatter(dist_N_2[:,0], dist_N_2[:,1], s=20, c='r', marker='o',\n",
    "           label='samples from $N_2$', alpha=0.7)  \n",
    "ax.scatter(m_wrong_preddata[:,0], m_wrong_preddata[:,1], s=100, c='k', marker='x',\n",
    "           label='wrong pred', alpha=0.5)  \n",
    "ax.plot(xplot, yplot, 'k--', linewidth=3, label='decision boundary')\n",
    "ax.legend()\n",
    "ax.set_title(\"Number of wrong predicted points: \" + str(len(m_wrong_preddata))+\n",
    "             \"\\nAccuracy: \" + str(1-len(m_wrong_preddata)/len(m_Phi)) + \"%\")\n",
    "ax.set_xlabel('x') \n",
    "ax.set_ylabel('y') \n",
    "#ax.set_xlim(-2, 6)\n",
    "#ax.set_ylim(-2, 6)"
   ]
  },
  {
   "cell_type": "markdown",
   "metadata": {},
   "source": [
    "## Discussion \n",
    "As the two distribution overlap partially no clear seperation can be archieved. \n",
    "\n",
    "Nevertheless our linear regression could reach a ~96% accuracy which is quite nice. \n",
    "\n",
    "The $\\alpha$ parameter is comparable to a learning rate. If chosen to small, more gradient descent steps are needed. The model is more \"stiff\". If chosen too big, the algorithm tends to jump over (misses) the lowest point in the multi dimensional parameter space and no good overall accuracy may be reached, but the descent will be faster."
   ]
  },
  {
   "cell_type": "markdown",
   "metadata": {},
   "source": [
    "### Just for fun a 'big' alpha\n",
    "## $\\alpha=100$"
   ]
  },
  {
   "cell_type": "code",
   "execution_count": 81,
   "metadata": {},
   "outputs": [
    {
     "name": "stderr",
     "output_type": "stream",
     "text": [
      "D:\\ProgramData\\Anaconda3\\lib\\site-packages\\ipykernel_launcher.py:43: RuntimeWarning: overflow encountered in exp\n"
     ]
    },
    {
     "name": "stdout",
     "output_type": "stream",
     "text": [
      "number of wrong predicted points: 11\n",
      "Accuracy: 0.945 <---- worse than with low alpha\n",
      "Number of descents in GradDesc: 59 <---- better than with low alpha\n"
     ]
    },
    {
     "data": {
      "text/plain": [
       "Text(0,0.5,'y')"
      ]
     },
     "execution_count": 81,
     "metadata": {},
     "output_type": "execute_result"
    },
    {
     "data": {
      "image/png": "[encoded data removed]",
      "text/plain": [
       "<matplotlib.figure.Figure at 0x18013e94470>"
      ]
     },
     "metadata": {},
     "output_type": "display_data"
    }
   ],
   "source": [
    "v_w = Transpose_array(np.array([1,1,1]))\n",
    "v_w, descent_count = GradDesc(v_w, m_Phi, v_t, 1000, 100, epsilon=10)\n",
    "v_y = Get_y(v_w, m_Phi)\n",
    "v_y_classpred = Get_ClassPred(v_y)\n",
    "v_wrong_points = np.abs(v_y_classpred-v_t)\n",
    "comb_dist_label_pred = np.multiply(np.ones((len(comb_dist_label),4)), v_wrong_points)\n",
    "comb_dist_label_pred[:,:-1] = comb_dist_label\n",
    "m_wrong_preddata = np.empty((0,4))\n",
    "for point in range(len(comb_dist_label)):\n",
    "    if v_wrong_points[point] == 1:\n",
    "        m_wrong_preddata = np.vstack([m_wrong_preddata, comb_dist_label_pred[point,:]])\n",
    "print(\"number of wrong predicted points: \" + str(len(m_wrong_preddata)))\n",
    "print(\"Accuracy: \" + str(1-len(m_wrong_preddata)/len(m_Phi)) + \" <---- worse than with low alpha\")\n",
    "print(\"Number of descents in GradDesc: \" + str(descent_count) + \" <---- better than with low alpha\")\n",
    "\n",
    "xplot = [0.8,2.5]\n",
    "yplot = Get_Boundary(v_w,xplot)\n",
    "fig, ax = plt.subplots(figsize=(12,9)) \n",
    "ax.scatter(dist_N_1[:,0], dist_N_1[:,1], s=20, c='b', marker='o',\n",
    "           label='samples from $N_1$', alpha=0.7)  \n",
    "ax.scatter(dist_N_2[:,0], dist_N_2[:,1], s=20, c='r', marker='o',\n",
    "           label='samples from $N_2$', alpha=0.7)  \n",
    "ax.scatter(m_wrong_preddata[:,0], m_wrong_preddata[:,1], s=100, c='k', marker='x',\n",
    "           label='wrong pred', alpha=0.5)  \n",
    "ax.plot(xplot, yplot, 'k--', linewidth=3, label='decision boundary')\n",
    "ax.legend()\n",
    "ax.set_title(\"Number of wrong predicted points: \" + str(len(m_wrong_preddata))\n",
    "             +\"\\nAccuracy: \" + str(1-len(m_wrong_preddata)/len(m_Phi)) + \"%\")\n",
    "ax.set_xlabel('x') \n",
    "ax.set_ylabel('y') \n",
    "#ax.set_xlim(-2, 6)\n",
    "#ax.set_ylim(-2, 6)"
   ]
  },
  {
   "cell_type": "markdown",
   "metadata": {},
   "source": [
    "As expected, a bigger $\\alpha$ leads to a faster descent, but also tends to be less accurate."
   ]
  },
  {
   "cell_type": "markdown",
   "metadata": {},
   "source": [
    "# References\n",
    "\n",
    "[Bis07] Bishop, C. \"Pattern Recognition and Machine Learning (Information Science and Statistics), 1st edn. 2006. corr. 2nd printing edn.\" Springer, New York (2007)."
   ]
  },
  {
   "cell_type": "code",
   "execution_count": null,
   "metadata": {
    "collapsed": true
   },
   "outputs": [],
   "source": []
  }
 ],
 "metadata": {
  "kernelspec": {
   "display_name": "Python 3",
   "language": "python",
   "name": "python3"
  },
  "language_info": {
   "codemirror_mode": {
    "name": "ipython",
    "version": 3
   },
   "file_extension": ".py",
   "mimetype": "text/x-python",
   "name": "python",
   "nbconvert_exporter": "python",
   "pygments_lexer": "ipython3",
   "version": "3.6.3"
  },
  "varInspector": {
   "cols": {
    "lenName": 16,
    "lenType": 16,
    "lenVar": 40
   },
   "kernels_config": {
    "python": {
     "delete_cmd_postfix": "",
     "delete_cmd_prefix": "del ",
     "library": "var_list.py",
     "varRefreshCmd": "print(var_dic_list())"
    },
    "r": {
     "delete_cmd_postfix": ") ",
     "delete_cmd_prefix": "rm(",
     "library": "var_list.r",
     "varRefreshCmd": "cat(var_dic_list()) "
    }
   },
   "types_to_exclude": [
    "module",
    "function",
    "builtin_function_or_method",
    "instance",
    "_Feature"
   ],
   "window_display": false
  }
 },
 "nbformat": 4,
 "nbformat_minor": 2
}
